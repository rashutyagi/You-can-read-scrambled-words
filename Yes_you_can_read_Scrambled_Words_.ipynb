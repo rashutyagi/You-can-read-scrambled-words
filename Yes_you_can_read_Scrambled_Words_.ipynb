{
  "nbformat": 4,
  "nbformat_minor": 0,
  "metadata": {
    "colab": {
      "name": "Yes_you_can_read_Scrambled_Words.ipynb",
      "provenance": [],
      "collapsed_sections": []
    },
    "kernelspec": {
      "name": "python3",
      "display_name": "Python 3"
    },
    "language_info": {
      "name": "python"
    }
  },
  "cells": [
    {
      "cell_type": "code",
      "metadata": {
        "colab": {
          "base_uri": "https://localhost:8080/",
          "height": 52
        },
        "id": "b9PGokRrGGT1",
        "outputId": "4b192acd-5e3d-452f-d9cf-4f404a7fca97"
      },
      "source": [
        "my_text = \"I have always wondered that will it be easy and fast to read a book if all the useless letters were removed from it\"\n",
        "my_text"
      ],
      "execution_count": 2,
      "outputs": [
        {
          "output_type": "execute_result",
          "data": {
            "application/vnd.google.colaboratory.intrinsic+json": {
              "type": "string"
            },
            "text/plain": [
              "'I have always wondered that will it be easy and fast to read a book if all the useless letters were removed from it'"
            ]
          },
          "metadata": {
            "tags": []
          },
          "execution_count": 2
        }
      ]
    },
    {
      "cell_type": "code",
      "metadata": {
        "id": "8YpHo34DG5hk"
      },
      "source": [
        "words = my_text.split()"
      ],
      "execution_count": 3,
      "outputs": []
    },
    {
      "cell_type": "code",
      "metadata": {
        "colab": {
          "base_uri": "https://localhost:8080/"
        },
        "id": "M1UC_9c5G_hL",
        "outputId": "512a7690-b16b-4696-a6f8-bd89d0d25a71"
      },
      "source": [
        "words"
      ],
      "execution_count": 4,
      "outputs": [
        {
          "output_type": "execute_result",
          "data": {
            "text/plain": [
              "['I',\n",
              " 'have',\n",
              " 'always',\n",
              " 'wondered',\n",
              " 'that',\n",
              " 'will',\n",
              " 'it',\n",
              " 'be',\n",
              " 'easy',\n",
              " 'and',\n",
              " 'fast',\n",
              " 'to',\n",
              " 'read',\n",
              " 'a',\n",
              " 'book',\n",
              " 'if',\n",
              " 'all',\n",
              " 'the',\n",
              " 'useless',\n",
              " 'letters',\n",
              " 'were',\n",
              " 'removed',\n",
              " 'from',\n",
              " 'it']"
            ]
          },
          "metadata": {
            "tags": []
          },
          "execution_count": 4
        }
      ]
    },
    {
      "cell_type": "markdown",
      "metadata": {
        "id": "BixWUe2-HB8O"
      },
      "source": [
        "## Now we will be randomly scrambling the words present in above list."
      ]
    },
    {
      "cell_type": "code",
      "metadata": {
        "colab": {
          "base_uri": "https://localhost:8080/"
        },
        "id": "bXDn35Y_HAPD",
        "outputId": "69ac3db1-63a1-410f-842e-d70ead3093a3"
      },
      "source": [
        "import numpy as np\n",
        "\n",
        "np.random.permutation(10)"
      ],
      "execution_count": 5,
      "outputs": [
        {
          "output_type": "execute_result",
          "data": {
            "text/plain": [
              "array([0, 5, 8, 7, 1, 3, 4, 6, 9, 2])"
            ]
          },
          "metadata": {
            "tags": []
          },
          "execution_count": 5
        }
      ]
    },
    {
      "cell_type": "code",
      "metadata": {
        "colab": {
          "base_uri": "https://localhost:8080/"
        },
        "id": "DPWMRZpFHQr-",
        "outputId": "54d76671-a8e6-435b-aec7-575d33445c89"
      },
      "source": [
        "np.random.permutation(10)"
      ],
      "execution_count": 6,
      "outputs": [
        {
          "output_type": "execute_result",
          "data": {
            "text/plain": [
              "array([6, 8, 7, 9, 0, 3, 5, 1, 4, 2])"
            ]
          },
          "metadata": {
            "tags": []
          },
          "execution_count": 6
        }
      ]
    },
    {
      "cell_type": "markdown",
      "metadata": {
        "id": "rmkTeHyxHUFD"
      },
      "source": [
        "## We get random permutation each time we run it."
      ]
    },
    {
      "cell_type": "code",
      "metadata": {
        "colab": {
          "base_uri": "https://localhost:8080/"
        },
        "id": "fRKy_-u2HSY9",
        "outputId": "63dfa542-d1a4-4543-ccb8-7e9a13499b32"
      },
      "source": [
        "w = \"rashu\"\n",
        "idx = np.random.permutation(len(w))\n",
        "print(idx)\n",
        "scrambled = [w[i] for i in idx]\n",
        "scrambled"
      ],
      "execution_count": 13,
      "outputs": [
        {
          "output_type": "stream",
          "text": [
            "[1 0 4 2 3]\n"
          ],
          "name": "stdout"
        },
        {
          "output_type": "execute_result",
          "data": {
            "text/plain": [
              "['a', 'r', 'u', 's', 'h']"
            ]
          },
          "metadata": {
            "tags": []
          },
          "execution_count": 13
        }
      ]
    },
    {
      "cell_type": "code",
      "metadata": {
        "colab": {
          "base_uri": "https://localhost:8080/"
        },
        "id": "CAj21ssSHyIC",
        "outputId": "5ff780fc-4f6d-458c-9aa2-9ba9199f6193"
      },
      "source": [
        "w = \"rashu\"\n",
        "idx = np.random.permutation(len(w))\n",
        "print(idx)\n",
        "scrambled = [w[i] for i in idx]\n",
        "scrambled"
      ],
      "execution_count": 14,
      "outputs": [
        {
          "output_type": "stream",
          "text": [
            "[1 4 2 0 3]\n"
          ],
          "name": "stdout"
        },
        {
          "output_type": "execute_result",
          "data": {
            "text/plain": [
              "['a', 'u', 's', 'r', 'h']"
            ]
          },
          "metadata": {
            "tags": []
          },
          "execution_count": 14
        }
      ]
    },
    {
      "cell_type": "code",
      "metadata": {
        "colab": {
          "base_uri": "https://localhost:8080/"
        },
        "id": "m7jdUbQJH7Zz",
        "outputId": "6bacd307-28d7-4645-bb41-b1959ceb978c"
      },
      "source": [
        "w = \"rashu\"\n",
        "idx = np.random.permutation(len(w))\n",
        "print(idx)\n",
        "scrambled = [w[i] for i in idx]\n",
        "scrambled"
      ],
      "execution_count": 15,
      "outputs": [
        {
          "output_type": "stream",
          "text": [
            "[0 1 3 2 4]\n"
          ],
          "name": "stdout"
        },
        {
          "output_type": "execute_result",
          "data": {
            "text/plain": [
              "['r', 'a', 'h', 's', 'u']"
            ]
          },
          "metadata": {
            "tags": []
          },
          "execution_count": 15
        }
      ]
    },
    {
      "cell_type": "markdown",
      "metadata": {
        "id": "fzgIDQgqH97t"
      },
      "source": [
        "You can clearly see that we get random order of the letters in the word everytime we run the above code."
      ]
    },
    {
      "cell_type": "code",
      "metadata": {
        "colab": {
          "base_uri": "https://localhost:8080/",
          "height": 52
        },
        "id": "Y9Hr1ZJ1H8ya",
        "outputId": "62449e02-fb13-450f-e566-f0935f00cdec"
      },
      "source": [
        "# joining all the letters to form the word after scrambling\n",
        "\n",
        "w = \"rashu\"\n",
        "idx = np.random.permutation(len(w))\n",
        "print(idx)\n",
        "scrambled = \"\".join([w[i] for i in idx])\n",
        "scrambled"
      ],
      "execution_count": 16,
      "outputs": [
        {
          "output_type": "stream",
          "text": [
            "[0 4 1 2 3]\n"
          ],
          "name": "stdout"
        },
        {
          "output_type": "execute_result",
          "data": {
            "application/vnd.google.colaboratory.intrinsic+json": {
              "type": "string"
            },
            "text/plain": [
              "'ruash'"
            ]
          },
          "metadata": {
            "tags": []
          },
          "execution_count": 16
        }
      ]
    },
    {
      "cell_type": "code",
      "metadata": {
        "colab": {
          "base_uri": "https://localhost:8080/",
          "height": 52
        },
        "id": "kvDTbDizIfal",
        "outputId": "94b500e3-2a54-4aa1-e120-fd0c0bf8dc42"
      },
      "source": [
        "# scrambling all the letters \n",
        "\n",
        "for wi in range(len(words)):\n",
        "  thisword = words[wi]\n",
        "  idx = np.random.permutation(len(thisword))\n",
        "  words[wi] = \"\".join([thisword[i] for i in idx])\n",
        "\n",
        "\" \".join(words)"
      ],
      "execution_count": 19,
      "outputs": [
        {
          "output_type": "execute_result",
          "data": {
            "application/vnd.google.colaboratory.intrinsic+json": {
              "type": "string"
            },
            "text/plain": [
              "'I evah ylwsaa nodeewrd that wlil ti eb ysea nad satf to ader a kboo fi lla eht lsseesu eslrtet wree dmoevre rfom ti'"
            ]
          },
          "metadata": {
            "tags": []
          },
          "execution_count": 19
        }
      ]
    },
    {
      "cell_type": "markdown",
      "metadata": {
        "id": "F5Cv0V54KC9h"
      },
      "source": [
        "## Some words from above are readable while many are not. This is happening because we scrambled all the letters of each word."
      ]
    },
    {
      "cell_type": "code",
      "metadata": {
        "colab": {
          "base_uri": "https://localhost:8080/",
          "height": 52
        },
        "id": "fws190MnJ12d",
        "outputId": "8714b6ca-fa3a-4246-982c-5a39c334f891"
      },
      "source": [
        "# Now we will scramble all the words but in each word we will keep\n",
        "# the first and the last character intact.\n",
        "\n",
        "# We will also be ignoring the short words because there is no point of scrambling the \n",
        "# very short words.\n",
        "\n",
        "words = my_text.split()\n",
        "\n",
        "for wi in range(len(words)):\n",
        "  if(len(words[wi]) < 4):\n",
        "    continue\n",
        "  \n",
        "  thisword = words[wi][1:-1] # not taking into consideration the first and the last characters of the word.\n",
        "  idx = np.random.permutation(len(thisword))\n",
        "  words[wi] = words[wi][0] + ''.join([thisword[i] for i in idx]) + words[wi][-1]\n",
        "\n",
        "' '.join(words)\n",
        "\n",
        "\n",
        "\n",
        "\n"
      ],
      "execution_count": 23,
      "outputs": [
        {
          "output_type": "execute_result",
          "data": {
            "application/vnd.google.colaboratory.intrinsic+json": {
              "type": "string"
            },
            "text/plain": [
              "'I hvae always werdneod taht wlil it be easy and fast to read a book if all the useelss ltreets were rveomed form it'"
            ]
          },
          "metadata": {
            "tags": []
          },
          "execution_count": 23
        }
      ]
    },
    {
      "cell_type": "markdown",
      "metadata": {
        "id": "NIpv3xt9XPbO"
      },
      "source": [
        "# You can easily read the above sentence although the words are scrambled above."
      ]
    },
    {
      "cell_type": "markdown",
      "metadata": {
        "id": "qpmsfI-fScje"
      },
      "source": [
        "### Now we will use the technique where we will replace with random letters keeping the first and the last letters of the word intact. ( Here it is not necessary that we will replace with only those letters which are present in the word but we will replace with any random letters.)"
      ]
    },
    {
      "cell_type": "code",
      "metadata": {
        "colab": {
          "base_uri": "https://localhost:8080/",
          "height": 35
        },
        "id": "T0oICY7mS7hX",
        "outputId": "d24352f9-67d7-4215-b581-4e56a453a039"
      },
      "source": [
        "import string\n",
        "allletters = string.ascii_lowercase\n",
        "allletters"
      ],
      "execution_count": 24,
      "outputs": [
        {
          "output_type": "execute_result",
          "data": {
            "application/vnd.google.colaboratory.intrinsic+json": {
              "type": "string"
            },
            "text/plain": [
              "'abcdefghijklmnopqrstuvwxyz'"
            ]
          },
          "metadata": {
            "tags": []
          },
          "execution_count": 24
        }
      ]
    },
    {
      "cell_type": "code",
      "metadata": {
        "colab": {
          "base_uri": "https://localhost:8080/"
        },
        "id": "JlYzkRU_TYc8",
        "outputId": "7644fef5-58c3-4c3a-8cda-8430b6909ea9"
      },
      "source": [
        "np.random.randint(0,10,5) # will give 5 integers between 0 and 10, 10 excluded."
      ],
      "execution_count": 26,
      "outputs": [
        {
          "output_type": "execute_result",
          "data": {
            "text/plain": [
              "array([7, 8, 9, 6, 0])"
            ]
          },
          "metadata": {
            "tags": []
          },
          "execution_count": 26
        }
      ]
    },
    {
      "cell_type": "code",
      "metadata": {
        "colab": {
          "base_uri": "https://localhost:8080/",
          "height": 52
        },
        "id": "FFXPTt_vKTen",
        "outputId": "c3fb7bfb-2bb8-4182-a44a-51764af16c1d"
      },
      "source": [
        "words = my_text.split()\n",
        "\n",
        "for wi in range(len(words)):\n",
        "  if(len(words[wi]) < 4):\n",
        "    continue\n",
        "  \n",
        "  thisword = words[wi][1:-1] # not taking into consideration the first and the last characters of the word.\n",
        "  idx = np.random.randint(0,len(allletters),len(thisword))\n",
        "  words[wi] = words[wi][0] + ''.join([allletters[i] for i in idx]) + words[wi][-1]\n",
        "\n",
        "' '.join(words)"
      ],
      "execution_count": 27,
      "outputs": [
        {
          "output_type": "execute_result",
          "data": {
            "application/vnd.google.colaboratory.intrinsic+json": {
              "type": "string"
            },
            "text/plain": [
              "'I hrme arcqis wozrhbmd tzvt wzll it be etyy and fdst to rdtd a bdek if all the uxiuhis lipkmrs wjwe rrwztld frem it'"
            ]
          },
          "metadata": {
            "tags": []
          },
          "execution_count": 27
        }
      ]
    },
    {
      "cell_type": "markdown",
      "metadata": {
        "id": "juF38y9UXH_t"
      },
      "source": [
        "## So we can clearly see that above sentence is not readble if you already don't know the sentence."
      ]
    },
    {
      "cell_type": "code",
      "metadata": {
        "id": "9mOEpNCzXAD7"
      },
      "source": [
        ""
      ],
      "execution_count": null,
      "outputs": []
    }
  ]
}